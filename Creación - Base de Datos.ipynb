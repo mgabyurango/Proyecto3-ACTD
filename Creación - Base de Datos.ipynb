{
 "cells": [
  {
   "cell_type": "markdown",
   "id": "b7b05cb3",
   "metadata": {},
   "source": [
    "## Importar base de datos"
   ]
  },
  {
   "cell_type": "code",
   "execution_count": 2,
   "id": "3260b1db",
   "metadata": {},
   "outputs": [],
   "source": [
    "# Importar las librerías necesarias\n",
    "import pandas as pd"
   ]
  },
  {
   "cell_type": "code",
   "execution_count": 7,
   "id": "3cf9c763",
   "metadata": {},
   "outputs": [
    {
     "data": {
      "text/html": [
       "<div>\n",
       "<style scoped>\n",
       "    .dataframe tbody tr th:only-of-type {\n",
       "        vertical-align: middle;\n",
       "    }\n",
       "\n",
       "    .dataframe tbody tr th {\n",
       "        vertical-align: top;\n",
       "    }\n",
       "\n",
       "    .dataframe thead th {\n",
       "        text-align: right;\n",
       "    }\n",
       "</style>\n",
       "<table border=\"1\" class=\"dataframe\">\n",
       "  <thead>\n",
       "    <tr style=\"text-align: right;\">\n",
       "      <th></th>\n",
       "      <th>cole_depto_ubicacion</th>\n",
       "      <th>fami_estratovivienda</th>\n",
       "      <th>fami_personashogar</th>\n",
       "      <th>fami_tieneautomovil</th>\n",
       "      <th>fami_tienecomputador</th>\n",
       "      <th>fami_tieneinternet</th>\n",
       "      <th>fami_tienelavadora</th>\n",
       "      <th>punt_global</th>\n",
       "    </tr>\n",
       "  </thead>\n",
       "  <tbody>\n",
       "    <tr>\n",
       "      <th>0</th>\n",
       "      <td>VALLE</td>\n",
       "      <td>Estrato 3</td>\n",
       "      <td>9 o más</td>\n",
       "      <td>Si</td>\n",
       "      <td>Si</td>\n",
       "      <td>No</td>\n",
       "      <td>No</td>\n",
       "      <td>274</td>\n",
       "    </tr>\n",
       "    <tr>\n",
       "      <th>1</th>\n",
       "      <td>VALLE</td>\n",
       "      <td>Estrato 5</td>\n",
       "      <td>3 a 4</td>\n",
       "      <td>Si</td>\n",
       "      <td>Si</td>\n",
       "      <td>Si</td>\n",
       "      <td>Si</td>\n",
       "      <td>270</td>\n",
       "    </tr>\n",
       "    <tr>\n",
       "      <th>2</th>\n",
       "      <td>VALLE</td>\n",
       "      <td>Estrato 1</td>\n",
       "      <td>3 a 4</td>\n",
       "      <td>No</td>\n",
       "      <td>No</td>\n",
       "      <td>No</td>\n",
       "      <td>Si</td>\n",
       "      <td>222</td>\n",
       "    </tr>\n",
       "    <tr>\n",
       "      <th>3</th>\n",
       "      <td>VALLE</td>\n",
       "      <td>Estrato 6</td>\n",
       "      <td>5 a 6</td>\n",
       "      <td>Si</td>\n",
       "      <td>Si</td>\n",
       "      <td>Si</td>\n",
       "      <td>Si</td>\n",
       "      <td>305</td>\n",
       "    </tr>\n",
       "    <tr>\n",
       "      <th>4</th>\n",
       "      <td>CUNDINAMARCA</td>\n",
       "      <td>Estrato 4</td>\n",
       "      <td>3 a 4</td>\n",
       "      <td>Si</td>\n",
       "      <td>Si</td>\n",
       "      <td>Si</td>\n",
       "      <td>Si</td>\n",
       "      <td>359</td>\n",
       "    </tr>\n",
       "  </tbody>\n",
       "</table>\n",
       "</div>"
      ],
      "text/plain": [
       "  cole_depto_ubicacion fami_estratovivienda fami_personashogar  \\\n",
       "0                VALLE            Estrato 3            9 o más   \n",
       "1                VALLE            Estrato 5              3 a 4   \n",
       "2                VALLE            Estrato 1              3 a 4   \n",
       "3                VALLE            Estrato 6              5 a 6   \n",
       "4         CUNDINAMARCA            Estrato 4              3 a 4   \n",
       "\n",
       "  fami_tieneautomovil fami_tienecomputador fami_tieneinternet  \\\n",
       "0                  Si                   Si                 No   \n",
       "1                  Si                   Si                 Si   \n",
       "2                  No                   No                 No   \n",
       "3                  Si                   Si                 Si   \n",
       "4                  Si                   Si                 Si   \n",
       "\n",
       "  fami_tienelavadora  punt_global  \n",
       "0                 No          274  \n",
       "1                 Si          270  \n",
       "2                 Si          222  \n",
       "3                 Si          305  \n",
       "4                 Si          359  "
      ]
     },
     "execution_count": 7,
     "metadata": {},
     "output_type": "execute_result"
    }
   ],
   "source": [
    "df = pd.read_csv('datos_filtrados.csv')\n",
    "df.head()"
   ]
  },
  {
   "cell_type": "code",
   "execution_count": 15,
   "id": "a2c36093",
   "metadata": {},
   "outputs": [
    {
     "name": "stdout",
     "output_type": "stream",
     "text": [
      "Súper! No hay valores vacíos.\n"
     ]
    }
   ],
   "source": [
    "# Verificamos que no tenga punt_global vacíos\n",
    "cont = 0\n",
    "for i in range(0, (len(df['punt_global'])-1)):\n",
    "    if df[\"punt_global\"][i]=='NaN':\n",
    "        cont += 1\n",
    "if cont == 0:\n",
    "    print('Súper! No hay valores vacíos.')\n",
    "else:\n",
    "    print('Ojo: Hay valores vacíos.')"
   ]
  },
  {
   "cell_type": "code",
   "execution_count": 18,
   "id": "7dd07072",
   "metadata": {},
   "outputs": [
    {
     "data": {
      "text/plain": [
       "array(['VALLE', 'CUNDINAMARCA', 'ANTIOQUIA', 'BOGOTÁ', 'CAUCA',\n",
       "       'RISARALDA', 'SANTANDER', 'QUINDIO', 'NARIÑO', 'ATLANTICO',\n",
       "       'SUCRE', 'CALDAS', 'META', 'MAGDALENA', 'CASANARE', 'BOLIVAR',\n",
       "       'NORTE SANTANDER', 'LA GUAJIRA', 'CESAR', 'TOLIMA', 'BOYACA',\n",
       "       'GUAINIA', 'CORDOBA', 'HUILA', 'ARAUCA', 'PUTUMAYO', 'CHOCO',\n",
       "       'CAQUETA'], dtype=object)"
      ]
     },
     "execution_count": 18,
     "metadata": {},
     "output_type": "execute_result"
    }
   ],
   "source": [
    "df['cole_depto_ubicacion'].unique()"
   ]
  }
 ],
 "metadata": {
  "kernelspec": {
   "display_name": "Python 3 (ipykernel)",
   "language": "python",
   "name": "python3"
  },
  "language_info": {
   "codemirror_mode": {
    "name": "ipython",
    "version": 3
   },
   "file_extension": ".py",
   "mimetype": "text/x-python",
   "name": "python",
   "nbconvert_exporter": "python",
   "pygments_lexer": "ipython3",
   "version": "3.9.13"
  }
 },
 "nbformat": 4,
 "nbformat_minor": 5
}
