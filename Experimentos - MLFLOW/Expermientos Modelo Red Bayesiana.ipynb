{
 "cells": [
  {
   "cell_type": "code",
   "execution_count": 0,
   "metadata": {
    "application/vnd.databricks.v1+cell": {
     "cellMetadata": {
      "byteLimit": 2048000,
      "rowLimit": 10000
     },
     "inputWidgets": {},
     "nuid": "11fc8539-b7ca-4844-8138-3833d38087d2",
     "showTitle": false,
     "title": ""
    }
   },
   "outputs": [],
   "source": [
    "#%pip install pgmpy\n",
    "#dbutils.library.restartPython()"
   ]
  },
  {
   "cell_type": "code",
   "execution_count": 0,
   "metadata": {
    "application/vnd.databricks.v1+cell": {
     "cellMetadata": {
      "byteLimit": 2048000,
      "rowLimit": 10000
     },
     "inputWidgets": {},
     "nuid": "dfb842b9-8f57-4131-96b1-ec3efc5543c0",
     "showTitle": false,
     "title": ""
    }
   },
   "outputs": [],
   "source": [
    "import mlflow\n",
    "import mlflow.sklearn\n",
    "from pgmpy.estimators import ParameterEstimator, MaximumLikelihoodEstimator\n",
    "from sklearn.metrics import accuracy_score, recall_score, precision_score, f1_score, confusion_matrix\n",
    "from sklearn.model_selection import train_test_split\n",
    "import pandas as pd\n",
    "from pgmpy.models import BayesianNetwork"
   ]
  },
  {
   "cell_type": "code",
   "execution_count": 0,
   "metadata": {
    "application/vnd.databricks.v1+cell": {
     "cellMetadata": {
      "byteLimit": 2048000,
      "rowLimit": 10000
     },
     "inputWidgets": {},
     "nuid": "34e92ae1-cd82-4f74-ab57-a7dd7ac04d0f",
     "showTitle": false,
     "title": ""
    }
   },
   "outputs": [
    {
     "output_type": "execute_result",
     "data": {
      "text/html": [
       "<div>\n",
       "<style scoped>\n",
       "    .dataframe tbody tr th:only-of-type {\n",
       "        vertical-align: middle;\n",
       "    }\n",
       "\n",
       "    .dataframe tbody tr th {\n",
       "        vertical-align: top;\n",
       "    }\n",
       "\n",
       "    .dataframe thead th {\n",
       "        text-align: right;\n",
       "    }\n",
       "</style>\n",
       "<table border=\"1\" class=\"dataframe\">\n",
       "  <thead>\n",
       "    <tr style=\"text-align: right;\">\n",
       "      <th></th>\n",
       "      <th>cole_depto_ubicacion</th>\n",
       "      <th>fami_estratovivienda</th>\n",
       "      <th>fami_personashogar</th>\n",
       "      <th>fami_tieneautomovil</th>\n",
       "      <th>fami_tienecomputador</th>\n",
       "      <th>fami_tieneinternet</th>\n",
       "      <th>fami_tienelavadora</th>\n",
       "      <th>punt_global</th>\n",
       "    </tr>\n",
       "  </thead>\n",
       "  <tbody>\n",
       "    <tr>\n",
       "      <th>0</th>\n",
       "      <td>VALLE</td>\n",
       "      <td>Estrato 3</td>\n",
       "      <td>9 o más</td>\n",
       "      <td>Si</td>\n",
       "      <td>Si</td>\n",
       "      <td>No</td>\n",
       "      <td>No</td>\n",
       "      <td>Rango de 238.0 a 293.0</td>\n",
       "    </tr>\n",
       "    <tr>\n",
       "      <th>1</th>\n",
       "      <td>VALLE</td>\n",
       "      <td>Estrato 5</td>\n",
       "      <td>3 a 4</td>\n",
       "      <td>Si</td>\n",
       "      <td>Si</td>\n",
       "      <td>Si</td>\n",
       "      <td>Si</td>\n",
       "      <td>Rango de 238.0 a 293.0</td>\n",
       "    </tr>\n",
       "    <tr>\n",
       "      <th>2</th>\n",
       "      <td>VALLE</td>\n",
       "      <td>Estrato 1</td>\n",
       "      <td>3 a 4</td>\n",
       "      <td>No</td>\n",
       "      <td>No</td>\n",
       "      <td>No</td>\n",
       "      <td>Si</td>\n",
       "      <td>Rango de 48 a 238.0</td>\n",
       "    </tr>\n",
       "    <tr>\n",
       "      <th>3</th>\n",
       "      <td>VALLE</td>\n",
       "      <td>Estrato 6</td>\n",
       "      <td>5 a 6</td>\n",
       "      <td>Si</td>\n",
       "      <td>Si</td>\n",
       "      <td>Si</td>\n",
       "      <td>Si</td>\n",
       "      <td>Rango de 293.0 a 337.0</td>\n",
       "    </tr>\n",
       "    <tr>\n",
       "      <th>4</th>\n",
       "      <td>CUNDINAMARCA</td>\n",
       "      <td>Estrato 4</td>\n",
       "      <td>3 a 4</td>\n",
       "      <td>Si</td>\n",
       "      <td>Si</td>\n",
       "      <td>Si</td>\n",
       "      <td>Si</td>\n",
       "      <td>Rango de 337.0 a 476</td>\n",
       "    </tr>\n",
       "    <tr>\n",
       "      <th>...</th>\n",
       "      <td>...</td>\n",
       "      <td>...</td>\n",
       "      <td>...</td>\n",
       "      <td>...</td>\n",
       "      <td>...</td>\n",
       "      <td>...</td>\n",
       "      <td>...</td>\n",
       "      <td>...</td>\n",
       "    </tr>\n",
       "    <tr>\n",
       "      <th>18417</th>\n",
       "      <td>VALLE</td>\n",
       "      <td>Estrato 5</td>\n",
       "      <td>3 a 4</td>\n",
       "      <td>Si</td>\n",
       "      <td>Si</td>\n",
       "      <td>Si</td>\n",
       "      <td>Si</td>\n",
       "      <td>Rango de 337.0 a 476</td>\n",
       "    </tr>\n",
       "    <tr>\n",
       "      <th>18418</th>\n",
       "      <td>VALLE</td>\n",
       "      <td>Estrato 4</td>\n",
       "      <td>3 a 4</td>\n",
       "      <td>Si</td>\n",
       "      <td>Si</td>\n",
       "      <td>Si</td>\n",
       "      <td>Si</td>\n",
       "      <td>Rango de 293.0 a 337.0</td>\n",
       "    </tr>\n",
       "    <tr>\n",
       "      <th>18419</th>\n",
       "      <td>CAUCA</td>\n",
       "      <td>Estrato 3</td>\n",
       "      <td>5 a 6</td>\n",
       "      <td>No</td>\n",
       "      <td>No</td>\n",
       "      <td>Si</td>\n",
       "      <td>Si</td>\n",
       "      <td>Rango de 48 a 238.0</td>\n",
       "    </tr>\n",
       "    <tr>\n",
       "      <th>18420</th>\n",
       "      <td>BOGOTÁ</td>\n",
       "      <td>Estrato 3</td>\n",
       "      <td>7 a 8</td>\n",
       "      <td>Si</td>\n",
       "      <td>Si</td>\n",
       "      <td>Si</td>\n",
       "      <td>Si</td>\n",
       "      <td>Rango de 48 a 238.0</td>\n",
       "    </tr>\n",
       "    <tr>\n",
       "      <th>18421</th>\n",
       "      <td>CUNDINAMARCA</td>\n",
       "      <td>Estrato 4</td>\n",
       "      <td>3 a 4</td>\n",
       "      <td>Si</td>\n",
       "      <td>Si</td>\n",
       "      <td>Si</td>\n",
       "      <td>Si</td>\n",
       "      <td>Rango de 238.0 a 293.0</td>\n",
       "    </tr>\n",
       "  </tbody>\n",
       "</table>\n",
       "<p>18422 rows × 8 columns</p>\n",
       "</div>"
      ],
      "text/plain": [
       "      cole_depto_ubicacion  ...             punt_global\n",
       "0                    VALLE  ...  Rango de 238.0 a 293.0\n",
       "1                    VALLE  ...  Rango de 238.0 a 293.0\n",
       "2                    VALLE  ...     Rango de 48 a 238.0\n",
       "3                    VALLE  ...  Rango de 293.0 a 337.0\n",
       "4             CUNDINAMARCA  ...    Rango de 337.0 a 476\n",
       "...                    ...  ...                     ...\n",
       "18417                VALLE  ...    Rango de 337.0 a 476\n",
       "18418                VALLE  ...  Rango de 293.0 a 337.0\n",
       "18419                CAUCA  ...     Rango de 48 a 238.0\n",
       "18420               BOGOTÁ  ...     Rango de 48 a 238.0\n",
       "18421         CUNDINAMARCA  ...  Rango de 238.0 a 293.0\n",
       "\n",
       "[18422 rows x 8 columns]"
      ]
     },
     "execution_count": 3,
     "metadata": {},
     "output_type": "execute_result"
    }
   ],
   "source": [
    "#Cargamos los datos\n",
    "#df = pd.read_csv('/FileStore/tables/data_proyecto_3/datos_limpio.csv')\n",
    "df = spark.read.format(\"csv\").option(\"header\", \"true\").load(\"dbfs:/FileStore/shared_uploads/ma.velandia@uniandes.edu.co/datos_limpio.csv\")\n",
    "df = df.toPandas()\n",
    "df"
   ]
  },
  {
   "cell_type": "code",
   "execution_count": 0,
   "metadata": {
    "application/vnd.databricks.v1+cell": {
     "cellMetadata": {
      "byteLimit": 2048000,
      "rowLimit": 10000
     },
     "inputWidgets": {},
     "nuid": "9f5a8e6b-ebb6-4102-8d50-f0b8eff790ea",
     "showTitle": false,
     "title": ""
    }
   },
   "outputs": [
    {
     "output_type": "execute_result",
     "data": {
      "text/plain": [
       "<Experiment: artifact_location='dbfs:/databricks/mlflow-tracking/2513764676775162', creation_time=1701656537853, experiment_id='2513764676775162', last_update_time=1701660055698, lifecycle_stage='active', name='/Users/ma.velandia@uniandes.edu.co/proyecto_experiments_3', tags={'mlflow.experiment.sourceName': '/Users/ma.velandia@uniandes.edu.co/proyecto_experiments_3',\n",
       " 'mlflow.experimentType': 'MLFLOW_EXPERIMENT',\n",
       " 'mlflow.ownerEmail': 'ma.velandia@uniandes.edu.co',\n",
       " 'mlflow.ownerId': '5334649168356220'}>"
      ]
     },
     "execution_count": 20,
     "metadata": {},
     "output_type": "execute_result"
    }
   ],
   "source": [
    "# División de datos en conjuntos de entrenamiento y prueba\n",
    "#train_data, test_data = train_test_split(df, test_size=0.2, random_state=98)\n",
    "train_data, test_data = train_test_split(df, test_size=0.3, random_state=90)\n",
    "\n",
    "# Restricciones\n",
    "#model = BayesianNetwork([('fami_tieneinternet', 'cole_depto_ubicacion'), ('fami_tieneinternet', 'fami_estratovivienda'), ('fami_tieneinternet', 'fami_tienecomputador'), ('cole_depto_ubicacion', 'fami_tienecomputador'), ('cole_depto_ubicacion', 'punt_global'), ('cole_depto_ubicacion', 'fami_tienelavadora'), ('cole_depto_ubicacion', 'fami_estratovivienda'), ('fami_personashogar', 'cole_depto_ubicacion'), ('fami_personashogar', 'fami_estratovivienda'), ('fami_tienecomputador', 'fami_estratovivienda'), ('fami_tieneautomovil', 'punt_global'), ('fami_tieneautomovil', 'cole_depto_ubicacion'), ('fami_tieneautomovil', 'fami_personashogar'), ('fami_estratovivienda', 'punt_global'), ('fami_estratovivienda', 'fami_tienelavadora'), ('fami_tieneautomovil','fami_estratovivienda')])\n",
    "\n",
    "#BicScore\n",
    "#model =BayesianNetwork([('fami_estratovivienda', 'punt_global'), ('fami_estratovivienda', 'fami_tienecomputador'), ('fami_estratovivienda', 'cole_depto_ubicacion'), ('fami_estratovivienda', 'fami_tieneinternet'), ('fami_personashogar', 'fami_tieneautomovil'), ('fami_tieneautomovil', 'fami_estratovivienda'), ('fami_tieneautomovil', 'fami_tienecomputador'), ('fami_tieneautomovil', 'fami_tienelavadora'), ('fami_tieneautomovil', 'punt_global'), ('fami_tienecomputador', 'fami_tieneinternet'), ('fami_tienecomputador', 'fami_tienelavadora'), ('fami_tienecomputador', 'punt_global'), ('fami_tieneinternet', 'fami_tienelavadora')])\n",
    "\n",
    "#k2score\n",
    "model =BayesianNetwork([('cole_depto_ubicacion', 'punt_global'), ('fami_estratovivienda', 'punt_global'), ('fami_estratovivienda', 'fami_tienecomputador'), ('fami_estratovivienda', 'cole_depto_ubicacion'), ('fami_estratovivienda', 'fami_tieneinternet'), ('fami_estratovivienda', 'fami_tienelavadora'), ('fami_personashogar', 'fami_tieneautomovil'), ('fami_personashogar', 'fami_estratovivienda'), ('fami_tieneautomovil', 'fami_estratovivienda'), ('fami_tieneautomovil', 'fami_tienecomputador'), ('fami_tieneautomovil', 'fami_tienelavadora'), ('fami_tieneautomovil', 'punt_global'), ('fami_tieneautomovil', 'cole_depto_ubicacion'), ('fami_tienecomputador', 'fami_tieneinternet'), ('fami_tienecomputador', 'fami_tienelavadora'), ('fami_tienelavadora', 'fami_tieneinternet'), ('punt_global', 'fami_tienecomputador')])\n",
    "\n",
    "\n",
    "\n",
    "model.fit(train_data, estimator=MaximumLikelihoodEstimator)  # Entrena el modelo con MLE\n",
    "\n",
    "# registre el experimento\n",
    "#mlflow.set_tracking_uri('http://localhost:5000')\n",
    "# registre el experimento\n",
    "mlflow.set_experiment(\"/Users/ma.velandia@uniandes.edu.co/proyecto_experiments_3\")\n",
    "#mlflow.set_experiment(\"proyecto_experiments_3\")"
   ]
  },
  {
   "cell_type": "code",
   "execution_count": 0,
   "metadata": {
    "application/vnd.databricks.v1+cell": {
     "cellMetadata": {
      "byteLimit": 2048000,
      "rowLimit": 10000
     },
     "inputWidgets": {},
     "nuid": "b4591979-84ec-449b-95e3-3025fc172d67",
     "showTitle": false,
     "title": ""
    }
   },
   "outputs": [
    {
     "output_type": "display_data",
     "data": {
      "application/vnd.jupyter.widget-view+json": {
       "model_id": "9ace5065f909488db1560c9d0021e473",
       "version_major": 2,
       "version_minor": 0
      },
      "text/plain": [
       "  0%|          | 0/1147 [00:00<?, ?it/s]"
      ]
     },
     "metadata": {},
     "output_type": "display_data"
    },
    {
     "output_type": "stream",
     "name": "stderr",
     "output_type": "stream",
     "text": [
      "2023/12/04 03:24:07 WARNING mlflow.models.model: Model logged without a signature. Signatures will be required for upcoming model registry features as they validate model inputs and denote the expected schema of model outputs. Please visit https://www.mlflow.org/docs/2.7.1/models.html#set-signature-on-logged-model for instructions on setting a model signature on your logged model.\n"
     ]
    },
    {
     "output_type": "display_data",
     "data": {
      "application/vnd.jupyter.widget-view+json": {
       "model_id": "1d6473527a7f4534a60ce7e7723d2c47",
       "version_major": 2,
       "version_minor": 0
      },
      "text/plain": [
       "Uploading artifacts:   0%|          | 0/5 [00:00<?, ?it/s]"
      ]
     },
     "metadata": {},
     "output_type": "display_data"
    }
   ],
   "source": [
    "\n",
    "run_name='k2score_2'\n",
    "# Inicia un nuevo run de MLflow\n",
    "with mlflow.start_run(run_name=run_name):\n",
    "\n",
    "    # Realiza predicciones en el conjunto de prueba\n",
    "    predictions = model.predict(test_data.drop(columns=['punt_global']))\n",
    "\n",
    "    # Calcula y registra la precisión\n",
    "    accuracy = accuracy_score(test_data['punt_global'], predictions['punt_global'])\n",
    "    mlflow.log_metric(\"accuracy\", accuracy)\n",
    "\n",
    "    # Calcula y registra la sensibilidad (recall)\n",
    "    recall = recall_score(test_data['punt_global'], predictions['punt_global'],average='weighted')\n",
    "    mlflow.log_metric(\"recall\", recall)\n",
    "\n",
    "    # Calcula y registra la precisión\n",
    "    precision = precision_score(test_data['punt_global'], predictions['punt_global'],average='weighted')\n",
    "    mlflow.log_metric(\"precision\", precision)\n",
    "\n",
    "    # Calcula y registra el valor F1\n",
    "    f1 = f1_score(test_data['punt_global'], predictions['punt_global'],average='weighted')\n",
    "    mlflow.log_metric(\"f1\", f1)\n",
    "\n",
    "    # Calcula y registra la matriz de confusión\n",
    "    #conf_matrix = confusion_matrix(test_data['punt_global'], predictions['punt_global'])\n",
    "    #mlflow.log_artifact(pd.DataFrame(conf_matrix), \"confusion_matrix.csv\")\n",
    "\n",
    "    # Guarda el modelo en MLflow\n",
    "    mlflow.sklearn.log_model(model, \"bayesian-model\")\n",
    "\n"
   ]
  }
 ],
 "metadata": {
  "application/vnd.databricks.v1+notebook": {
   "dashboards": [],
   "language": "python",
   "notebookMetadata": {
    "pythonIndentUnit": 4
   },
   "notebookName": "Expermientos Modelo Red Bayesiana (1)",
   "widgets": {}
  },
  "kernelspec": {
   "display_name": "Python 3 (ipykernel)",
   "language": "python",
   "name": "python3"
  },
  "language_info": {
   "codemirror_mode": {
    "name": "ipython",
    "version": 3
   },
   "file_extension": ".py",
   "mimetype": "text/x-python",
   "name": "python",
   "nbconvert_exporter": "python",
   "pygments_lexer": "ipython3",
   "version": "3.9.7"
  }
 },
 "nbformat": 4,
 "nbformat_minor": 0
}
