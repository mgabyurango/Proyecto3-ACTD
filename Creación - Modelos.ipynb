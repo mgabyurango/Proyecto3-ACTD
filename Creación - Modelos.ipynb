{
 "cells": [
  {
   "cell_type": "markdown",
   "id": "b7b05cb3",
   "metadata": {},
   "source": [
    "## Importar base de datos"
   ]
  },
  {
   "cell_type": "code",
   "execution_count": 5,
   "id": "3260b1db",
   "metadata": {},
   "outputs": [],
   "source": [
    "# Importar las librerías necesarias\n",
    "import pandas as pd\n",
    "from pgmpy.estimators import PC\n",
    "from datetime import datetime\n",
    "import networkx as nx\n",
    "import matplotlib.pyplot as plt\n",
    "from pgmpy.estimators import BicScore\n",
    "from pgmpy.estimators import HillClimbSearch\n",
    "from pgmpy.estimators import K2Score\n",
    "import pickle\n",
    "from sklearn.metrics import accuracy_score\n",
    "from sklearn.metrics import confusion_matrix\n",
    "from sklearn.model_selection import train_test_split\n",
    "from pgmpy.models import BayesianNetwork\n",
    "from pgmpy.estimators import MaximumLikelihoodEstimator\n",
    "from pgmpy.inference import VariableElimination\n",
    "import seaborn as sns\n",
    "import seaborn as sns"
   ]
  },
  {
   "cell_type": "code",
   "execution_count": 6,
   "id": "3cf9c763",
   "metadata": {
    "scrolled": true
   },
   "outputs": [
    {
     "data": {
      "text/html": [
       "<div>\n",
       "<style scoped>\n",
       "    .dataframe tbody tr th:only-of-type {\n",
       "        vertical-align: middle;\n",
       "    }\n",
       "\n",
       "    .dataframe tbody tr th {\n",
       "        vertical-align: top;\n",
       "    }\n",
       "\n",
       "    .dataframe thead th {\n",
       "        text-align: right;\n",
       "    }\n",
       "</style>\n",
       "<table border=\"1\" class=\"dataframe\">\n",
       "  <thead>\n",
       "    <tr style=\"text-align: right;\">\n",
       "      <th></th>\n",
       "      <th>cole_depto_ubicacion</th>\n",
       "      <th>fami_estratovivienda</th>\n",
       "      <th>fami_personashogar</th>\n",
       "      <th>fami_tieneautomovil</th>\n",
       "      <th>fami_tienecomputador</th>\n",
       "      <th>fami_tieneinternet</th>\n",
       "      <th>fami_tienelavadora</th>\n",
       "      <th>punt_global</th>\n",
       "    </tr>\n",
       "  </thead>\n",
       "  <tbody>\n",
       "    <tr>\n",
       "      <th>0</th>\n",
       "      <td>VALLE</td>\n",
       "      <td>Estrato 3</td>\n",
       "      <td>9 o más</td>\n",
       "      <td>Si</td>\n",
       "      <td>Si</td>\n",
       "      <td>No</td>\n",
       "      <td>No</td>\n",
       "      <td>274</td>\n",
       "    </tr>\n",
       "    <tr>\n",
       "      <th>1</th>\n",
       "      <td>VALLE</td>\n",
       "      <td>Estrato 5</td>\n",
       "      <td>3 a 4</td>\n",
       "      <td>Si</td>\n",
       "      <td>Si</td>\n",
       "      <td>Si</td>\n",
       "      <td>Si</td>\n",
       "      <td>270</td>\n",
       "    </tr>\n",
       "    <tr>\n",
       "      <th>2</th>\n",
       "      <td>VALLE</td>\n",
       "      <td>Estrato 1</td>\n",
       "      <td>3 a 4</td>\n",
       "      <td>No</td>\n",
       "      <td>No</td>\n",
       "      <td>No</td>\n",
       "      <td>Si</td>\n",
       "      <td>222</td>\n",
       "    </tr>\n",
       "    <tr>\n",
       "      <th>3</th>\n",
       "      <td>VALLE</td>\n",
       "      <td>Estrato 6</td>\n",
       "      <td>5 a 6</td>\n",
       "      <td>Si</td>\n",
       "      <td>Si</td>\n",
       "      <td>Si</td>\n",
       "      <td>Si</td>\n",
       "      <td>305</td>\n",
       "    </tr>\n",
       "    <tr>\n",
       "      <th>4</th>\n",
       "      <td>CUNDINAMARCA</td>\n",
       "      <td>Estrato 4</td>\n",
       "      <td>3 a 4</td>\n",
       "      <td>Si</td>\n",
       "      <td>Si</td>\n",
       "      <td>Si</td>\n",
       "      <td>Si</td>\n",
       "      <td>359</td>\n",
       "    </tr>\n",
       "  </tbody>\n",
       "</table>\n",
       "</div>"
      ],
      "text/plain": [
       "  cole_depto_ubicacion fami_estratovivienda fami_personashogar  \\\n",
       "0                VALLE            Estrato 3            9 o más   \n",
       "1                VALLE            Estrato 5              3 a 4   \n",
       "2                VALLE            Estrato 1              3 a 4   \n",
       "3                VALLE            Estrato 6              5 a 6   \n",
       "4         CUNDINAMARCA            Estrato 4              3 a 4   \n",
       "\n",
       "  fami_tieneautomovil fami_tienecomputador fami_tieneinternet  \\\n",
       "0                  Si                   Si                 No   \n",
       "1                  Si                   Si                 Si   \n",
       "2                  No                   No                 No   \n",
       "3                  Si                   Si                 Si   \n",
       "4                  Si                   Si                 Si   \n",
       "\n",
       "  fami_tienelavadora  punt_global  \n",
       "0                 No          274  \n",
       "1                 Si          270  \n",
       "2                 Si          222  \n",
       "3                 Si          305  \n",
       "4                 Si          359  "
      ]
     },
     "execution_count": 6,
     "metadata": {},
     "output_type": "execute_result"
    }
   ],
   "source": [
    "df = pd.read_csv('datos_filtrados.csv')\n",
    "df.head()"
   ]
  },
  {
   "cell_type": "code",
   "execution_count": 3,
   "id": "a2c36093",
   "metadata": {},
   "outputs": [
    {
     "name": "stdout",
     "output_type": "stream",
     "text": [
      "Súper! No hay valores vacíos.\n"
     ]
    }
   ],
   "source": [
    "# Verificamos que no tenga punt_global vacíos\n",
    "cont = 0\n",
    "for i in range(0, (len(df['punt_global'])-1)):\n",
    "    if df[\"punt_global\"][i]=='NaN':\n",
    "        cont += 1\n",
    "if cont == 0:\n",
    "    print('Súper! No hay valores vacíos.')\n",
    "else:\n",
    "    print('Ojo: Hay valores vacíos.')"
   ]
  },
  {
   "cell_type": "code",
   "execution_count": 4,
   "id": "7dd07072",
   "metadata": {},
   "outputs": [
    {
     "data": {
      "text/plain": [
       "array(['VALLE', 'CUNDINAMARCA', 'ANTIOQUIA', 'BOGOTÁ', 'CAUCA',\n",
       "       'RISARALDA', 'SANTANDER', 'QUINDIO', 'NARIÑO', 'ATLANTICO',\n",
       "       'SUCRE', 'CALDAS', 'META', 'MAGDALENA', 'CASANARE', 'BOLIVAR',\n",
       "       'NORTE SANTANDER', 'LA GUAJIRA', 'CESAR', 'TOLIMA', 'BOYACA',\n",
       "       'GUAINIA', 'CORDOBA', 'HUILA', 'ARAUCA', 'PUTUMAYO', 'CHOCO',\n",
       "       'CAQUETA'], dtype=object)"
      ]
     },
     "execution_count": 4,
     "metadata": {},
     "output_type": "execute_result"
    }
   ],
   "source": [
    "df['cole_depto_ubicacion'].unique()"
   ]
  },
  {
   "cell_type": "markdown",
   "id": "f6849871",
   "metadata": {},
   "source": [
    "# Creación de Estructuras de Red"
   ]
  },
  {
   "cell_type": "markdown",
   "id": "38a49952",
   "metadata": {},
   "source": [
    "## Método de Restricciones"
   ]
  },
  {
   "cell_type": "code",
   "execution_count": 7,
   "id": "eaac48c1",
   "metadata": {},
   "outputs": [
    {
     "data": {
      "application/vnd.jupyter.widget-view+json": {
       "model_id": "ae9e4f300fa8475c9cbb9e35705c0ed5",
       "version_major": 2,
       "version_minor": 0
      },
      "text/plain": [
       "  0%|          | 0/8 [00:00<?, ?it/s]"
      ]
     },
     "metadata": {},
     "output_type": "display_data"
    },
    {
     "name": "stdout",
     "output_type": "stream",
     "text": [
      "DAG with 7 nodes and 10 edges\n",
      "['fami_personashogar', 'punt_global', 'fami_tienecomputador', 'cole_depto_ubicacion', 'fami_estratovivienda', 'fami_tieneautomovil', 'fami_tieneinternet']\n",
      "[('punt_global', 'fami_personashogar'), ('punt_global', 'cole_depto_ubicacion'), ('punt_global', 'fami_estratovivienda'), ('punt_global', 'fami_tienecomputador'), ('punt_global', 'fami_tieneinternet'), ('cole_depto_ubicacion', 'fami_personashogar'), ('fami_estratovivienda', 'fami_personashogar'), ('fami_estratovivienda', 'cole_depto_ubicacion'), ('fami_tieneautomovil', 'fami_estratovivienda'), ('fami_tieneautomovil', 'punt_global')]\n",
      "El tiempo computacional fue de: 0:31:17.992110\n"
     ]
    }
   ],
   "source": [
    "# Estimamos un modelo nuevo por el método de restricciones\n",
    "tiempo_inicial = datetime.now()\n",
    "est = PC(data=df)\n",
    "modelo1 = est.estimate(variant=\"stable\", max_cond_vars=8)\n",
    "print(modelo1)\n",
    "print(modelo1.nodes())\n",
    "print(modelo1.edges())\n",
    "tiempo_total = datetime.now() - tiempo_inicial\n",
    "print('El tiempo computacional fue de: ' + str(tiempo_total))"
   ]
  },
  {
   "cell_type": "code",
   "execution_count": 10,
   "id": "3e394354",
   "metadata": {},
   "outputs": [
    {
     "data": {
      "image/png": "[encoded data removed]",
      "text/plain": [
       "<Figure size 640x480 with 1 Axes>"
      ]
     },
     "metadata": {},
     "output_type": "display_data"
    }
   ],
   "source": [
    "# Dibujamos el grafo\n",
    "nx.draw_circular(modelo1,with_labels=True,arrowsize=10,font_size=8,node_size=1000)\n",
    "plt.show()"
   ]
  },
  {
   "cell_type": "code",
   "execution_count": 11,
   "id": "148435b8",
   "metadata": {},
   "outputs": [
    {
     "name": "stdout",
     "output_type": "stream",
     "text": [
      "Modelo por Restricciones:-234561.11951369114\n"
     ]
    }
   ],
   "source": [
    "# Evaluamos el modelo\n",
    "print(\"Modelo por Restricciones:\" + str(scoring_method.score(modelo1)))"
   ]
  },
  {
   "cell_type": "code",
   "execution_count": 24,
   "id": "a1592ca1",
   "metadata": {},
   "outputs": [
    {
     "data": {
      "text/html": [
       "<div>\n",
       "<style scoped>\n",
       "    .dataframe tbody tr th:only-of-type {\n",
       "        vertical-align: middle;\n",
       "    }\n",
       "\n",
       "    .dataframe tbody tr th {\n",
       "        vertical-align: top;\n",
       "    }\n",
       "\n",
       "    .dataframe thead th {\n",
       "        text-align: right;\n",
       "    }\n",
       "</style>\n",
       "<table border=\"1\" class=\"dataframe\">\n",
       "  <thead>\n",
       "    <tr style=\"text-align: right;\">\n",
       "      <th></th>\n",
       "      <th>fami_personashogar</th>\n",
       "      <th>punt_global</th>\n",
       "      <th>fami_tienecomputador</th>\n",
       "      <th>cole_depto_ubicacion</th>\n",
       "      <th>fami_estratovivienda</th>\n",
       "      <th>fami_tieneautomovil</th>\n",
       "      <th>fami_tieneinternet</th>\n",
       "    </tr>\n",
       "  </thead>\n",
       "  <tbody>\n",
       "    <tr>\n",
       "      <th>0</th>\n",
       "      <td>9 o más</td>\n",
       "      <td>274</td>\n",
       "      <td>Si</td>\n",
       "      <td>VALLE</td>\n",
       "      <td>Estrato 3</td>\n",
       "      <td>Si</td>\n",
       "      <td>No</td>\n",
       "    </tr>\n",
       "    <tr>\n",
       "      <th>1</th>\n",
       "      <td>3 a 4</td>\n",
       "      <td>270</td>\n",
       "      <td>Si</td>\n",
       "      <td>VALLE</td>\n",
       "      <td>Estrato 5</td>\n",
       "      <td>Si</td>\n",
       "      <td>Si</td>\n",
       "    </tr>\n",
       "    <tr>\n",
       "      <th>2</th>\n",
       "      <td>3 a 4</td>\n",
       "      <td>222</td>\n",
       "      <td>No</td>\n",
       "      <td>VALLE</td>\n",
       "      <td>Estrato 1</td>\n",
       "      <td>No</td>\n",
       "      <td>No</td>\n",
       "    </tr>\n",
       "    <tr>\n",
       "      <th>3</th>\n",
       "      <td>5 a 6</td>\n",
       "      <td>305</td>\n",
       "      <td>Si</td>\n",
       "      <td>VALLE</td>\n",
       "      <td>Estrato 6</td>\n",
       "      <td>Si</td>\n",
       "      <td>Si</td>\n",
       "    </tr>\n",
       "    <tr>\n",
       "      <th>4</th>\n",
       "      <td>3 a 4</td>\n",
       "      <td>359</td>\n",
       "      <td>Si</td>\n",
       "      <td>CUNDINAMARCA</td>\n",
       "      <td>Estrato 4</td>\n",
       "      <td>Si</td>\n",
       "      <td>Si</td>\n",
       "    </tr>\n",
       "    <tr>\n",
       "      <th>...</th>\n",
       "      <td>...</td>\n",
       "      <td>...</td>\n",
       "      <td>...</td>\n",
       "      <td>...</td>\n",
       "      <td>...</td>\n",
       "      <td>...</td>\n",
       "      <td>...</td>\n",
       "    </tr>\n",
       "    <tr>\n",
       "      <th>18418</th>\n",
       "      <td>3 a 4</td>\n",
       "      <td>340</td>\n",
       "      <td>Si</td>\n",
       "      <td>VALLE</td>\n",
       "      <td>Estrato 5</td>\n",
       "      <td>Si</td>\n",
       "      <td>Si</td>\n",
       "    </tr>\n",
       "    <tr>\n",
       "      <th>18419</th>\n",
       "      <td>3 a 4</td>\n",
       "      <td>324</td>\n",
       "      <td>Si</td>\n",
       "      <td>VALLE</td>\n",
       "      <td>Estrato 4</td>\n",
       "      <td>Si</td>\n",
       "      <td>Si</td>\n",
       "    </tr>\n",
       "    <tr>\n",
       "      <th>18420</th>\n",
       "      <td>5 a 6</td>\n",
       "      <td>227</td>\n",
       "      <td>No</td>\n",
       "      <td>CAUCA</td>\n",
       "      <td>Estrato 3</td>\n",
       "      <td>No</td>\n",
       "      <td>Si</td>\n",
       "    </tr>\n",
       "    <tr>\n",
       "      <th>18421</th>\n",
       "      <td>7 a 8</td>\n",
       "      <td>187</td>\n",
       "      <td>Si</td>\n",
       "      <td>BOGOTÁ</td>\n",
       "      <td>Estrato 3</td>\n",
       "      <td>Si</td>\n",
       "      <td>Si</td>\n",
       "    </tr>\n",
       "    <tr>\n",
       "      <th>18422</th>\n",
       "      <td>3 a 4</td>\n",
       "      <td>292</td>\n",
       "      <td>Si</td>\n",
       "      <td>CUNDINAMARCA</td>\n",
       "      <td>Estrato 4</td>\n",
       "      <td>Si</td>\n",
       "      <td>Si</td>\n",
       "    </tr>\n",
       "  </tbody>\n",
       "</table>\n",
       "<p>18423 rows × 7 columns</p>\n",
       "</div>"
      ],
      "text/plain": [
       "      fami_personashogar  punt_global fami_tienecomputador  \\\n",
       "0                9 o más          274                   Si   \n",
       "1                  3 a 4          270                   Si   \n",
       "2                  3 a 4          222                   No   \n",
       "3                  5 a 6          305                   Si   \n",
       "4                  3 a 4          359                   Si   \n",
       "...                  ...          ...                  ...   \n",
       "18418              3 a 4          340                   Si   \n",
       "18419              3 a 4          324                   Si   \n",
       "18420              5 a 6          227                   No   \n",
       "18421              7 a 8          187                   Si   \n",
       "18422              3 a 4          292                   Si   \n",
       "\n",
       "      cole_depto_ubicacion fami_estratovivienda fami_tieneautomovil  \\\n",
       "0                    VALLE            Estrato 3                  Si   \n",
       "1                    VALLE            Estrato 5                  Si   \n",
       "2                    VALLE            Estrato 1                  No   \n",
       "3                    VALLE            Estrato 6                  Si   \n",
       "4             CUNDINAMARCA            Estrato 4                  Si   \n",
       "...                    ...                  ...                 ...   \n",
       "18418                VALLE            Estrato 5                  Si   \n",
       "18419                VALLE            Estrato 4                  Si   \n",
       "18420                CAUCA            Estrato 3                  No   \n",
       "18421               BOGOTÁ            Estrato 3                  Si   \n",
       "18422         CUNDINAMARCA            Estrato 4                  Si   \n",
       "\n",
       "      fami_tieneinternet  \n",
       "0                     No  \n",
       "1                     Si  \n",
       "2                     No  \n",
       "3                     Si  \n",
       "4                     Si  \n",
       "...                  ...  \n",
       "18418                 Si  \n",
       "18419                 Si  \n",
       "18420                 Si  \n",
       "18421                 Si  \n",
       "18422                 Si  \n",
       "\n",
       "[18423 rows x 7 columns]"
      ]
     },
     "execution_count": 24,
     "metadata": {},
     "output_type": "execute_result"
    }
   ],
   "source": [
    "# Editamos la base de datos para quedarnos con las columnas que nos interesan \n",
    "data_sel = ['fami_personashogar', 'punt_global', 'fami_tienecomputador', 'cole_depto_ubicacion', 'fami_estratovivienda', 'fami_tieneautomovil', 'fami_tieneinternet']\n",
    "data_sel = df[data_sel]\n",
    "data_sel"
   ]
  },
  {
   "cell_type": "code",
   "execution_count": 25,
   "id": "85d9a74b",
   "metadata": {},
   "outputs": [
    {
     "name": "stdout",
     "output_type": "stream",
     "text": [
      "El tiempo computacional de estimación de los parametros de probabilidades condicionales fue:0:00:06.713250\n"
     ]
    }
   ],
   "source": [
    "# Creamos el modelo como una red bayesiana\n",
    "redrestricciones= BayesianNetwork([('punt_global', 'fami_personashogar'), ('punt_global', 'cole_depto_ubicacion'), ('punt_global', 'fami_estratovivienda'), ('punt_global', 'fami_tienecomputador'), ('punt_global', 'fami_tieneinternet'), ('cole_depto_ubicacion', 'fami_personashogar'), ('fami_estratovivienda', 'fami_personashogar'), ('fami_estratovivienda', 'cole_depto_ubicacion'), ('fami_tieneautomovil', 'fami_estratovivienda'), ('fami_tieneautomovil', 'punt_global')])\n",
    "\n",
    "train, test = train_test_split(data_sel, test_size=0.2, random_state=98)\n",
    "#Calcular los parametros probabilidades condicionales mediante maxima verosimilitud\n",
    "\n",
    "tiempo_inicial_est = datetime.now()\n",
    "emv = MaximumLikelihoodEstimator(model=redrestricciones, data=train)\n",
    "\n",
    "redrestricciones.fit(data=train, estimator = MaximumLikelihoodEstimator)\n",
    "\n",
    "#Chequiar modelo\n",
    "redrestricciones.check_model()\n",
    "tiempo_comp_est = datetime.now() - tiempo_inicial_est\n",
    "print(f'El tiempo computacional de estimación de los parametros de probabilidades condicionales fue:{tiempo_comp_est}')\n",
    "infer = VariableElimination(redrestricciones)"
   ]
  },
  {
   "cell_type": "markdown",
   "id": "80177429",
   "metadata": {},
   "source": [
    "## Método de Puntajes - BicScore"
   ]
  },
  {
   "cell_type": "code",
   "execution_count": 8,
   "id": "61bbbb20",
   "metadata": {},
   "outputs": [
    {
     "data": {
      "application/vnd.jupyter.widget-view+json": {
       "model_id": "12b3fadff86b43f6822e039571090b70",
       "version_major": 2,
       "version_minor": 0
      },
      "text/plain": [
       "  0%|          | 0/1000 [00:00<?, ?it/s]"
      ]
     },
     "metadata": {},
     "output_type": "display_data"
    },
    {
     "name": "stdout",
     "output_type": "stream",
     "text": [
      "El tiempo computacional fue de: 0:00:03.976689\n"
     ]
    }
   ],
   "source": [
    "# Estimamos un modelo por el método de puntajes: BicScore\n",
    "tiempo_inicial = datetime.now()\n",
    "scoring_method = BicScore(data=df)\n",
    "esth = HillClimbSearch(data=df)\n",
    "modelo2 = esth.estimate(\n",
    "    scoring_method = scoring_method, max_indegree = 8, max_iter = 1000)\n",
    "tiempo_total = datetime.now() - tiempo_inicial\n",
    "print('El tiempo computacional fue de: ' + str(tiempo_total))"
   ]
  },
  {
   "cell_type": "code",
   "execution_count": 13,
   "id": "44162fb2",
   "metadata": {},
   "outputs": [
    {
     "data": {
      "image/png": "[encoded data removed]",
      "text/plain": [
       "<Figure size 640x480 with 1 Axes>"
      ]
     },
     "metadata": {},
     "output_type": "display_data"
    }
   ],
   "source": [
    "# Dibujamos el grafo\n",
    "nx.draw_circular(modelo3,with_labels=True,arrowsize=10,font_size=8,node_size=1000)\n",
    "plt.show()"
   ]
  },
  {
   "cell_type": "code",
   "execution_count": 19,
   "id": "90e633f2",
   "metadata": {},
   "outputs": [
    {
     "name": "stdout",
     "output_type": "stream",
     "text": [
      "DAG with 8 nodes and 12 edges\n",
      "['cole_depto_ubicacion', 'fami_estratovivienda', 'fami_personashogar', 'fami_tieneautomovil', 'fami_tienecomputador', 'fami_tieneinternet', 'fami_tienelavadora', 'punt_global']\n",
      "[('fami_estratovivienda', 'fami_tieneautomovil'), ('fami_estratovivienda', 'cole_depto_ubicacion'), ('fami_estratovivienda', 'fami_tieneinternet'), ('fami_tieneautomovil', 'fami_personashogar'), ('fami_tienecomputador', 'fami_estratovivienda'), ('fami_tienecomputador', 'fami_tieneinternet'), ('fami_tienecomputador', 'fami_tieneautomovil'), ('fami_tienecomputador', 'punt_global'), ('fami_tienelavadora', 'fami_tienecomputador'), ('fami_tienelavadora', 'fami_estratovivienda'), ('fami_tienelavadora', 'fami_tieneinternet'), ('fami_tienelavadora', 'fami_tieneautomovil')]\n"
     ]
    }
   ],
   "source": [
    "print(modelo2)\n",
    "print(modelo2.nodes())\n",
    "print(modelo2.edges())"
   ]
  },
  {
   "cell_type": "code",
   "execution_count": 17,
   "id": "b91944e9",
   "metadata": {},
   "outputs": [
    {
     "name": "stdout",
     "output_type": "stream",
     "text": [
      "Modelo por Restricciones - BicScore:-211253.33033868758\n"
     ]
    }
   ],
   "source": [
    "# Evaluamos el modelo\n",
    "print(\"Modelo por Puntaje - BicScore:\" + str(scoring_method.score(modelo2)))"
   ]
  },
  {
   "cell_type": "markdown",
   "id": "b3fbea09",
   "metadata": {},
   "source": [
    "## Estimación de Probabilidades"
   ]
  },
  {
   "cell_type": "code",
   "execution_count": 27,
   "id": "5ffaf5b2",
   "metadata": {},
   "outputs": [
    {
     "data": {
      "text/html": [
       "<div>\n",
       "<style scoped>\n",
       "    .dataframe tbody tr th:only-of-type {\n",
       "        vertical-align: middle;\n",
       "    }\n",
       "\n",
       "    .dataframe tbody tr th {\n",
       "        vertical-align: top;\n",
       "    }\n",
       "\n",
       "    .dataframe thead th {\n",
       "        text-align: right;\n",
       "    }\n",
       "</style>\n",
       "<table border=\"1\" class=\"dataframe\">\n",
       "  <thead>\n",
       "    <tr style=\"text-align: right;\">\n",
       "      <th></th>\n",
       "      <th>cole_depto_ubicacion</th>\n",
       "      <th>fami_estratovivienda</th>\n",
       "      <th>fami_personashogar</th>\n",
       "      <th>fami_tieneautomovil</th>\n",
       "      <th>fami_tienecomputador</th>\n",
       "      <th>fami_tieneinternet</th>\n",
       "      <th>fami_tienelavadora</th>\n",
       "      <th>punt_global</th>\n",
       "    </tr>\n",
       "  </thead>\n",
       "  <tbody>\n",
       "    <tr>\n",
       "      <th>0</th>\n",
       "      <td>VALLE</td>\n",
       "      <td>Estrato 3</td>\n",
       "      <td>9 o más</td>\n",
       "      <td>Si</td>\n",
       "      <td>Si</td>\n",
       "      <td>No</td>\n",
       "      <td>No</td>\n",
       "      <td>274</td>\n",
       "    </tr>\n",
       "    <tr>\n",
       "      <th>1</th>\n",
       "      <td>VALLE</td>\n",
       "      <td>Estrato 5</td>\n",
       "      <td>3 a 4</td>\n",
       "      <td>Si</td>\n",
       "      <td>Si</td>\n",
       "      <td>Si</td>\n",
       "      <td>Si</td>\n",
       "      <td>270</td>\n",
       "    </tr>\n",
       "    <tr>\n",
       "      <th>2</th>\n",
       "      <td>VALLE</td>\n",
       "      <td>Estrato 1</td>\n",
       "      <td>3 a 4</td>\n",
       "      <td>No</td>\n",
       "      <td>No</td>\n",
       "      <td>No</td>\n",
       "      <td>Si</td>\n",
       "      <td>222</td>\n",
       "    </tr>\n",
       "    <tr>\n",
       "      <th>3</th>\n",
       "      <td>VALLE</td>\n",
       "      <td>Estrato 6</td>\n",
       "      <td>5 a 6</td>\n",
       "      <td>Si</td>\n",
       "      <td>Si</td>\n",
       "      <td>Si</td>\n",
       "      <td>Si</td>\n",
       "      <td>305</td>\n",
       "    </tr>\n",
       "    <tr>\n",
       "      <th>4</th>\n",
       "      <td>CUNDINAMARCA</td>\n",
       "      <td>Estrato 4</td>\n",
       "      <td>3 a 4</td>\n",
       "      <td>Si</td>\n",
       "      <td>Si</td>\n",
       "      <td>Si</td>\n",
       "      <td>Si</td>\n",
       "      <td>359</td>\n",
       "    </tr>\n",
       "    <tr>\n",
       "      <th>...</th>\n",
       "      <td>...</td>\n",
       "      <td>...</td>\n",
       "      <td>...</td>\n",
       "      <td>...</td>\n",
       "      <td>...</td>\n",
       "      <td>...</td>\n",
       "      <td>...</td>\n",
       "      <td>...</td>\n",
       "    </tr>\n",
       "    <tr>\n",
       "      <th>18418</th>\n",
       "      <td>VALLE</td>\n",
       "      <td>Estrato 5</td>\n",
       "      <td>3 a 4</td>\n",
       "      <td>Si</td>\n",
       "      <td>Si</td>\n",
       "      <td>Si</td>\n",
       "      <td>Si</td>\n",
       "      <td>340</td>\n",
       "    </tr>\n",
       "    <tr>\n",
       "      <th>18419</th>\n",
       "      <td>VALLE</td>\n",
       "      <td>Estrato 4</td>\n",
       "      <td>3 a 4</td>\n",
       "      <td>Si</td>\n",
       "      <td>Si</td>\n",
       "      <td>Si</td>\n",
       "      <td>Si</td>\n",
       "      <td>324</td>\n",
       "    </tr>\n",
       "    <tr>\n",
       "      <th>18420</th>\n",
       "      <td>CAUCA</td>\n",
       "      <td>Estrato 3</td>\n",
       "      <td>5 a 6</td>\n",
       "      <td>No</td>\n",
       "      <td>No</td>\n",
       "      <td>Si</td>\n",
       "      <td>Si</td>\n",
       "      <td>227</td>\n",
       "    </tr>\n",
       "    <tr>\n",
       "      <th>18421</th>\n",
       "      <td>BOGOTÁ</td>\n",
       "      <td>Estrato 3</td>\n",
       "      <td>7 a 8</td>\n",
       "      <td>Si</td>\n",
       "      <td>Si</td>\n",
       "      <td>Si</td>\n",
       "      <td>Si</td>\n",
       "      <td>187</td>\n",
       "    </tr>\n",
       "    <tr>\n",
       "      <th>18422</th>\n",
       "      <td>CUNDINAMARCA</td>\n",
       "      <td>Estrato 4</td>\n",
       "      <td>3 a 4</td>\n",
       "      <td>Si</td>\n",
       "      <td>Si</td>\n",
       "      <td>Si</td>\n",
       "      <td>Si</td>\n",
       "      <td>292</td>\n",
       "    </tr>\n",
       "  </tbody>\n",
       "</table>\n",
       "<p>18423 rows × 8 columns</p>\n",
       "</div>"
      ],
      "text/plain": [
       "      cole_depto_ubicacion fami_estratovivienda fami_personashogar  \\\n",
       "0                    VALLE            Estrato 3            9 o más   \n",
       "1                    VALLE            Estrato 5              3 a 4   \n",
       "2                    VALLE            Estrato 1              3 a 4   \n",
       "3                    VALLE            Estrato 6              5 a 6   \n",
       "4             CUNDINAMARCA            Estrato 4              3 a 4   \n",
       "...                    ...                  ...                ...   \n",
       "18418                VALLE            Estrato 5              3 a 4   \n",
       "18419                VALLE            Estrato 4              3 a 4   \n",
       "18420                CAUCA            Estrato 3              5 a 6   \n",
       "18421               BOGOTÁ            Estrato 3              7 a 8   \n",
       "18422         CUNDINAMARCA            Estrato 4              3 a 4   \n",
       "\n",
       "      fami_tieneautomovil fami_tienecomputador fami_tieneinternet  \\\n",
       "0                      Si                   Si                 No   \n",
       "1                      Si                   Si                 Si   \n",
       "2                      No                   No                 No   \n",
       "3                      Si                   Si                 Si   \n",
       "4                      Si                   Si                 Si   \n",
       "...                   ...                  ...                ...   \n",
       "18418                  Si                   Si                 Si   \n",
       "18419                  Si                   Si                 Si   \n",
       "18420                  No                   No                 Si   \n",
       "18421                  Si                   Si                 Si   \n",
       "18422                  Si                   Si                 Si   \n",
       "\n",
       "      fami_tienelavadora  punt_global  \n",
       "0                     No          274  \n",
       "1                     Si          270  \n",
       "2                     Si          222  \n",
       "3                     Si          305  \n",
       "4                     Si          359  \n",
       "...                  ...          ...  \n",
       "18418                 Si          340  \n",
       "18419                 Si          324  \n",
       "18420                 Si          227  \n",
       "18421                 Si          187  \n",
       "18422                 Si          292  \n",
       "\n",
       "[18423 rows x 8 columns]"
      ]
     },
     "execution_count": 27,
     "metadata": {},
     "output_type": "execute_result"
    }
   ],
   "source": [
    "# Editamos la base de datos para quedarnos con las columnas que nos interesan \n",
    "data_sel = ['cole_depto_ubicacion', 'fami_estratovivienda', 'fami_personashogar', 'fami_tieneautomovil', 'fami_tienecomputador', 'fami_tieneinternet', 'fami_tienelavadora', 'punt_global']\n",
    "data_sel = df[data_sel]\n",
    "data_sel"
   ]
  },
  {
   "cell_type": "code",
   "execution_count": 28,
   "id": "4cb61a52",
   "metadata": {},
   "outputs": [
    {
     "name": "stdout",
     "output_type": "stream",
     "text": [
      "El tiempo computacional de estimación de los parametros de probabilidades condicionales fue:0:00:00.202245\n"
     ]
    }
   ],
   "source": [
    "# Creamos el modelo como una red bayesiana\n",
    "redbicscore= BayesianNetwork([('fami_estratovivienda', 'fami_tieneautomovil'), ('fami_estratovivienda', 'cole_depto_ubicacion'), ('fami_estratovivienda', 'fami_tieneinternet'), ('fami_tieneautomovil', 'fami_personashogar'), ('fami_tienecomputador', 'fami_estratovivienda'), ('fami_tienecomputador', 'fami_tieneinternet'), ('fami_tienecomputador', 'fami_tieneautomovil'), ('fami_tienecomputador', 'punt_global'), ('fami_tienelavadora', 'fami_tienecomputador'), ('fami_tienelavadora', 'fami_estratovivienda'), ('fami_tienelavadora', 'fami_tieneinternet'), ('fami_tienelavadora', 'fami_tieneautomovil')])\n",
    "\n",
    "train, test = train_test_split(data_sel, test_size=0.2, random_state=98)\n",
    "#Calcular los parametros> probabilidades condicionales mediante maxima verosimilitud\n",
    "\n",
    "tiempo_inicial_est = datetime.now()\n",
    "emv = MaximumLikelihoodEstimator(model=redrestricciones, data=train)\n",
    "\n",
    "redbicscore.fit(data=train, estimator = MaximumLikelihoodEstimator)\n",
    "\n",
    "#Chequiar modelo\n",
    "redbicscore.check_model()\n",
    "tiempo_comp_est = datetime.now() - tiempo_inicial_est\n",
    "print(f'El tiempo computacional de estimación de los parametros de probabilidades condicionales fue:{tiempo_comp_est}')\n",
    "infer = VariableElimination(redbicscore)"
   ]
  },
  {
   "cell_type": "code",
   "execution_count": null,
   "id": "ea89b250",
   "metadata": {},
   "outputs": [],
   "source": [
    "# Evaluamos el modelo"
   ]
  },
  {
   "cell_type": "code",
   "execution_count": 23,
   "id": "5650ba00",
   "metadata": {},
   "outputs": [],
   "source": [
    "# Guardamos el modelo\n",
    "# Como un .pkl\n",
    "filename='restricciones.pkl'\n",
    "with open(filename,'wb') as file:\n",
    "    pickle.dump(redrestricciones, file)\n",
    "    file.close()"
   ]
  },
  {
   "cell_type": "markdown",
   "id": "2647f49c",
   "metadata": {},
   "source": [
    "## Método de Puntajes - K2Score"
   ]
  },
  {
   "cell_type": "code",
   "execution_count": 9,
   "id": "69cdc0c1",
   "metadata": {},
   "outputs": [
    {
     "data": {
      "application/vnd.jupyter.widget-view+json": {
       "model_id": "c690e91889ce4611a7f3923100153c42",
       "version_major": 2,
       "version_minor": 0
      },
      "text/plain": [
       "  0%|          | 0/35 [00:00<?, ?it/s]"
      ]
     },
     "metadata": {},
     "output_type": "display_data"
    },
    {
     "name": "stdout",
     "output_type": "stream",
     "text": [
      "El tiempo computacional fue de: 0:00:05.019572\n"
     ]
    }
   ],
   "source": [
    "tiempo_inicial = datetime.now()\n",
    "scoring_method = K2Score(data=df)\n",
    "est = HillClimbSearch(data=df)\n",
    "modelo3 = esth.estimate(\n",
    "    scoring_method=scoring_method, max_indegree=28, max_iter=35\n",
    ")\n",
    "\n",
    "tiempo_total = datetime.now() - tiempo_inicial\n",
    "print('El tiempo computacional fue de: ' + str(tiempo_total))"
   ]
  },
  {
   "cell_type": "code",
   "execution_count": 16,
   "id": "4c74f1ca",
   "metadata": {},
   "outputs": [
    {
     "data": {
      "image/png": "[encoded data removed]",
      "text/plain": [
       "<Figure size 640x480 with 1 Axes>"
      ]
     },
     "metadata": {},
     "output_type": "display_data"
    }
   ],
   "source": [
    "# Dibujamos el grafo\n",
    "nx.draw_circular(modelo3,with_labels=True,arrowsize=10,font_size=8,node_size=1000)\n",
    "plt.show()"
   ]
  },
  {
   "cell_type": "code",
   "execution_count": 20,
   "id": "26beb04e",
   "metadata": {},
   "outputs": [
    {
     "name": "stdout",
     "output_type": "stream",
     "text": [
      "DAG with 8 nodes and 15 edges\n",
      "['cole_depto_ubicacion', 'fami_estratovivienda', 'fami_personashogar', 'fami_tieneautomovil', 'fami_tienecomputador', 'fami_tieneinternet', 'fami_tienelavadora', 'punt_global']\n",
      "[('fami_estratovivienda', 'fami_tienecomputador'), ('fami_estratovivienda', 'cole_depto_ubicacion'), ('fami_estratovivienda', 'fami_tieneinternet'), ('fami_tieneautomovil', 'fami_estratovivienda'), ('fami_tieneautomovil', 'punt_global'), ('fami_tieneautomovil', 'fami_tienecomputador'), ('fami_tieneautomovil', 'fami_tienelavadora'), ('fami_tieneautomovil', 'fami_personashogar'), ('fami_tienecomputador', 'fami_tieneinternet'), ('fami_tienecomputador', 'punt_global'), ('fami_tienecomputador', 'cole_depto_ubicacion'), ('fami_tienecomputador', 'fami_personashogar'), ('fami_tienelavadora', 'fami_tieneinternet'), ('fami_tienelavadora', 'fami_tienecomputador'), ('fami_tienelavadora', 'fami_estratovivienda')]\n"
     ]
    }
   ],
   "source": [
    "print(modelo3)\n",
    "print(modelo3.nodes())\n",
    "print(modelo3.edges())"
   ]
  },
  {
   "cell_type": "code",
   "execution_count": 15,
   "id": "07f6e056",
   "metadata": {},
   "outputs": [
    {
     "name": "stdout",
     "output_type": "stream",
     "text": [
      "Modelo por Restricciones - K2Score:-210305.527049691\n"
     ]
    }
   ],
   "source": [
    "# Evaluamos el modelo\n",
    "print(\"Modelo por Puntajes - K2Score:\" + str(scoring_method.score(modelo3)))"
   ]
  },
  {
   "cell_type": "code",
   "execution_count": 29,
   "id": "25976a30",
   "metadata": {},
   "outputs": [
    {
     "data": {
      "text/html": [
       "<div>\n",
       "<style scoped>\n",
       "    .dataframe tbody tr th:only-of-type {\n",
       "        vertical-align: middle;\n",
       "    }\n",
       "\n",
       "    .dataframe tbody tr th {\n",
       "        vertical-align: top;\n",
       "    }\n",
       "\n",
       "    .dataframe thead th {\n",
       "        text-align: right;\n",
       "    }\n",
       "</style>\n",
       "<table border=\"1\" class=\"dataframe\">\n",
       "  <thead>\n",
       "    <tr style=\"text-align: right;\">\n",
       "      <th></th>\n",
       "      <th>cole_depto_ubicacion</th>\n",
       "      <th>fami_estratovivienda</th>\n",
       "      <th>fami_personashogar</th>\n",
       "      <th>fami_tieneautomovil</th>\n",
       "      <th>fami_tienecomputador</th>\n",
       "      <th>fami_tieneinternet</th>\n",
       "      <th>fami_tienelavadora</th>\n",
       "      <th>punt_global</th>\n",
       "    </tr>\n",
       "  </thead>\n",
       "  <tbody>\n",
       "    <tr>\n",
       "      <th>0</th>\n",
       "      <td>VALLE</td>\n",
       "      <td>Estrato 3</td>\n",
       "      <td>9 o más</td>\n",
       "      <td>Si</td>\n",
       "      <td>Si</td>\n",
       "      <td>No</td>\n",
       "      <td>No</td>\n",
       "      <td>274</td>\n",
       "    </tr>\n",
       "    <tr>\n",
       "      <th>1</th>\n",
       "      <td>VALLE</td>\n",
       "      <td>Estrato 5</td>\n",
       "      <td>3 a 4</td>\n",
       "      <td>Si</td>\n",
       "      <td>Si</td>\n",
       "      <td>Si</td>\n",
       "      <td>Si</td>\n",
       "      <td>270</td>\n",
       "    </tr>\n",
       "    <tr>\n",
       "      <th>2</th>\n",
       "      <td>VALLE</td>\n",
       "      <td>Estrato 1</td>\n",
       "      <td>3 a 4</td>\n",
       "      <td>No</td>\n",
       "      <td>No</td>\n",
       "      <td>No</td>\n",
       "      <td>Si</td>\n",
       "      <td>222</td>\n",
       "    </tr>\n",
       "    <tr>\n",
       "      <th>3</th>\n",
       "      <td>VALLE</td>\n",
       "      <td>Estrato 6</td>\n",
       "      <td>5 a 6</td>\n",
       "      <td>Si</td>\n",
       "      <td>Si</td>\n",
       "      <td>Si</td>\n",
       "      <td>Si</td>\n",
       "      <td>305</td>\n",
       "    </tr>\n",
       "    <tr>\n",
       "      <th>4</th>\n",
       "      <td>CUNDINAMARCA</td>\n",
       "      <td>Estrato 4</td>\n",
       "      <td>3 a 4</td>\n",
       "      <td>Si</td>\n",
       "      <td>Si</td>\n",
       "      <td>Si</td>\n",
       "      <td>Si</td>\n",
       "      <td>359</td>\n",
       "    </tr>\n",
       "    <tr>\n",
       "      <th>...</th>\n",
       "      <td>...</td>\n",
       "      <td>...</td>\n",
       "      <td>...</td>\n",
       "      <td>...</td>\n",
       "      <td>...</td>\n",
       "      <td>...</td>\n",
       "      <td>...</td>\n",
       "      <td>...</td>\n",
       "    </tr>\n",
       "    <tr>\n",
       "      <th>18418</th>\n",
       "      <td>VALLE</td>\n",
       "      <td>Estrato 5</td>\n",
       "      <td>3 a 4</td>\n",
       "      <td>Si</td>\n",
       "      <td>Si</td>\n",
       "      <td>Si</td>\n",
       "      <td>Si</td>\n",
       "      <td>340</td>\n",
       "    </tr>\n",
       "    <tr>\n",
       "      <th>18419</th>\n",
       "      <td>VALLE</td>\n",
       "      <td>Estrato 4</td>\n",
       "      <td>3 a 4</td>\n",
       "      <td>Si</td>\n",
       "      <td>Si</td>\n",
       "      <td>Si</td>\n",
       "      <td>Si</td>\n",
       "      <td>324</td>\n",
       "    </tr>\n",
       "    <tr>\n",
       "      <th>18420</th>\n",
       "      <td>CAUCA</td>\n",
       "      <td>Estrato 3</td>\n",
       "      <td>5 a 6</td>\n",
       "      <td>No</td>\n",
       "      <td>No</td>\n",
       "      <td>Si</td>\n",
       "      <td>Si</td>\n",
       "      <td>227</td>\n",
       "    </tr>\n",
       "    <tr>\n",
       "      <th>18421</th>\n",
       "      <td>BOGOTÁ</td>\n",
       "      <td>Estrato 3</td>\n",
       "      <td>7 a 8</td>\n",
       "      <td>Si</td>\n",
       "      <td>Si</td>\n",
       "      <td>Si</td>\n",
       "      <td>Si</td>\n",
       "      <td>187</td>\n",
       "    </tr>\n",
       "    <tr>\n",
       "      <th>18422</th>\n",
       "      <td>CUNDINAMARCA</td>\n",
       "      <td>Estrato 4</td>\n",
       "      <td>3 a 4</td>\n",
       "      <td>Si</td>\n",
       "      <td>Si</td>\n",
       "      <td>Si</td>\n",
       "      <td>Si</td>\n",
       "      <td>292</td>\n",
       "    </tr>\n",
       "  </tbody>\n",
       "</table>\n",
       "<p>18423 rows × 8 columns</p>\n",
       "</div>"
      ],
      "text/plain": [
       "      cole_depto_ubicacion fami_estratovivienda fami_personashogar  \\\n",
       "0                    VALLE            Estrato 3            9 o más   \n",
       "1                    VALLE            Estrato 5              3 a 4   \n",
       "2                    VALLE            Estrato 1              3 a 4   \n",
       "3                    VALLE            Estrato 6              5 a 6   \n",
       "4             CUNDINAMARCA            Estrato 4              3 a 4   \n",
       "...                    ...                  ...                ...   \n",
       "18418                VALLE            Estrato 5              3 a 4   \n",
       "18419                VALLE            Estrato 4              3 a 4   \n",
       "18420                CAUCA            Estrato 3              5 a 6   \n",
       "18421               BOGOTÁ            Estrato 3              7 a 8   \n",
       "18422         CUNDINAMARCA            Estrato 4              3 a 4   \n",
       "\n",
       "      fami_tieneautomovil fami_tienecomputador fami_tieneinternet  \\\n",
       "0                      Si                   Si                 No   \n",
       "1                      Si                   Si                 Si   \n",
       "2                      No                   No                 No   \n",
       "3                      Si                   Si                 Si   \n",
       "4                      Si                   Si                 Si   \n",
       "...                   ...                  ...                ...   \n",
       "18418                  Si                   Si                 Si   \n",
       "18419                  Si                   Si                 Si   \n",
       "18420                  No                   No                 Si   \n",
       "18421                  Si                   Si                 Si   \n",
       "18422                  Si                   Si                 Si   \n",
       "\n",
       "      fami_tienelavadora  punt_global  \n",
       "0                     No          274  \n",
       "1                     Si          270  \n",
       "2                     Si          222  \n",
       "3                     Si          305  \n",
       "4                     Si          359  \n",
       "...                  ...          ...  \n",
       "18418                 Si          340  \n",
       "18419                 Si          324  \n",
       "18420                 Si          227  \n",
       "18421                 Si          187  \n",
       "18422                 Si          292  \n",
       "\n",
       "[18423 rows x 8 columns]"
      ]
     },
     "execution_count": 29,
     "metadata": {},
     "output_type": "execute_result"
    }
   ],
   "source": [
    "## Estimación de Probabilidades\n",
    "# Seleccionamos las variables que nos interesan\n",
    "data_sel = ['cole_depto_ubicacion', 'fami_estratovivienda', 'fami_personashogar', 'fami_tieneautomovil', 'fami_tienecomputador', 'fami_tieneinternet', 'fami_tienelavadora', 'punt_global']\n",
    "data_sel = df[data_sel]\n",
    "data_sel"
   ]
  },
  {
   "cell_type": "code",
   "execution_count": 30,
   "id": "9dbb4b93",
   "metadata": {},
   "outputs": [
    {
     "name": "stdout",
     "output_type": "stream",
     "text": [
      "El tiempo computacional de estimación de los parametros de probabilidades condicionales fue:0:00:00.249857\n"
     ]
    }
   ],
   "source": [
    "# Creamos el modelo como una red bayesiana\n",
    "redk2score= BayesianNetwork([('fami_estratovivienda', 'fami_tienecomputador'), ('fami_estratovivienda', 'cole_depto_ubicacion'), ('fami_estratovivienda', 'fami_tieneinternet'), ('fami_tieneautomovil', 'fami_estratovivienda'), ('fami_tieneautomovil', 'punt_global'), ('fami_tieneautomovil', 'fami_tienecomputador'), ('fami_tieneautomovil', 'fami_tienelavadora'), ('fami_tieneautomovil', 'fami_personashogar'), ('fami_tienecomputador', 'fami_tieneinternet'), ('fami_tienecomputador', 'punt_global'), ('fami_tienecomputador', 'cole_depto_ubicacion'), ('fami_tienecomputador', 'fami_personashogar'), ('fami_tienelavadora', 'fami_tieneinternet'), ('fami_tienelavadora', 'fami_tienecomputador'), ('fami_tienelavadora', 'fami_estratovivienda')])\n",
    "\n",
    "train, test = train_test_split(data_sel, test_size=0.2, random_state=98)\n",
    "#Calcular los parametros> probabilidades condicionales mediante maxima verosimilitud\n",
    "\n",
    "tiempo_inicial_est = datetime.now()\n",
    "emv = MaximumLikelihoodEstimator(model=redk2score, data=train)\n",
    "\n",
    "redk2score.fit(data=train, estimator = MaximumLikelihoodEstimator)\n",
    "\n",
    "#Chequiar modelo\n",
    "redbicscore.check_model()\n",
    "tiempo_comp_est = datetime.now() - tiempo_inicial_est\n",
    "print(f'El tiempo computacional de estimación de los parametros de probabilidades condicionales fue:{tiempo_comp_est}')\n",
    "infer = VariableElimination(redk2score)"
   ]
  },
  {
   "cell_type": "markdown",
   "id": "d31100d5",
   "metadata": {},
   "source": [
    "## Hacemos métricas de los modelos"
   ]
  },
  {
   "cell_type": "code",
   "execution_count": null,
   "id": "9a169508",
   "metadata": {},
   "outputs": [],
   "source": []
  },
  {
   "cell_type": "markdown",
   "id": "40d6535d",
   "metadata": {},
   "source": [
    "## Hacemos inferencia"
   ]
  }
 ],
 "metadata": {
  "kernelspec": {
   "display_name": "Python 3 (ipykernel)",
   "language": "python",
   "name": "python3"
  },
  "language_info": {
   "codemirror_mode": {
    "name": "ipython",
    "version": 3
   },
   "file_extension": ".py",
   "mimetype": "text/x-python",
   "name": "python",
   "nbconvert_exporter": "python",
   "pygments_lexer": "ipython3",
   "version": "3.9.13"
  }
 },
 "nbformat": 4,
 "nbformat_minor": 5
}
